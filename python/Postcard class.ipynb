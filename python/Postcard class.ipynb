{
 "cells": [
  {
   "cell_type": "code",
   "execution_count": 1,
   "metadata": {},
   "outputs": [],
   "source": [
    "class postcardclass():\n",
    "    \n",
    "    def __init__(self, _file, _postcards, _date, _from, _to):\n",
    "        self._file = _file\n",
    "        self._postcards = []\n",
    "        self._date = {}\n",
    "        self._from = {}\n",
    "        self._to = {}\n",
    "        \n",
    "    def __iter__(self): #questo serve per l'unpacking\n",
    "        return (i for i in (self._postcard, self._date, self._from, self._to))\n",
    "    \n",
    "    def __eq__(self, other): #questo serve per verificare l'equivalenza \n",
    "        return tuple(self)==tuple(other)\n",
    "    \n",
    "   \n",
    "\n",
    "\n",
    "\n",
    "\n",
    "    def writeFile(self, nomefile): #writing a postcards on an oufile \n",
    "        \n",
    "        self._file = nomefile\n",
    "        out_file = open(self._file,\"w\")\n",
    "        \n",
    "        for i in self._postcards:\n",
    "            out_file.write(i)\n",
    "            out_file.write(\"\\n\")\n",
    "            \n",
    "        out_file.close()\n",
    "        \n",
    "        \n",
    "        \n",
    "        \n",
    "        \n",
    "        \n",
    "    def readFile(self, nomefile):\n",
    "        \n",
    "        self._file= nomefile\n",
    "        with open(self._file) as f:\n",
    "            content = f.readlines()\n",
    "        self._postcards = [x.strip() for x in content] #until here i stored every line in content\n",
    "        \n",
    "        for i in range(len(self._postcards)):\n",
    "            date,sender,receiver = self._postcards[i].split(\"; \") #now I split date, sender and receiver.\n",
    "            self._date.update({date:i})\n",
    "            self._from.update({sender:i})\n",
    "            self._to.update({receiver:i})\n",
    "            \n",
    "            \n",
    "            \n",
    "    \n",
    "    def parsePostcards(self):\n",
    "        \n",
    "        pass\n",
    "    \n",
    "    \n",
    "    \n",
    "    \n",
    "    \n",
    "    def updateFile(self, nomefile):\n",
    "        \n",
    "        self._file = nomefile\n",
    "        #with open(self._file, 'rb+') as f:\n",
    "        #    last_character = f.seek(-1, SEEK_END)\n",
    "            \n",
    "        out_file = open(self._file,\"a\") #the option \"a\" appends to an existing file\n",
    "        \n",
    "        #if (last_character != \"\\n\"):\n",
    "        #   out_file.write(\"\\n\")\n",
    "        \n",
    "        for i in self._postcards:\n",
    "            out_file.write(i)\n",
    "            out_file.write(\"\\n\")\n",
    "            \n",
    "        out_file.close()\n",
    "        \n",
    "        \n",
    "        \n",
    "        \n",
    "        \n",
    "    \n",
    "    \n",
    "    def updateLists(self, nomefile):\n",
    "        \n",
    "        self._file= nomefile\n",
    "        with open(self._file) as f:\n",
    "            content = f.readlines()\n",
    "        content = [x.strip() for x in content] #until here i stored every line in content\n",
    "        \n",
    "        for i in range(len(content)):\n",
    "            date,sender,receiver = content[i].split(\"; \") #now I split date, sender and receiver.\n",
    "            \n",
    "            if date not in self._date.keys() or sender not in self._from.keys() or receiver not in self._to.keys():\n",
    "                self._postcards.append(content[i])\n",
    "                \n",
    "                \n",
    "                \n",
    "                \n",
    "                \n",
    "                \n",
    "    \n",
    "    def getNumberOfPostcards(self):\n",
    "        return len(self._postcards)\n",
    "    \n",
    "    \n",
    "    \n",
    "    \n",
    "    \n",
    "    def getPostcardsByDateRange(self,date_range):\n",
    "        pass\n",
    "    \n",
    "    \n",
    "    \n",
    "    \n",
    "    \n",
    "    def getPostcardsBySender(self, sender):\n",
    "          \n",
    "        i = 0\n",
    "        while i < len(self._postcards):\n",
    "            d,f,t = self._postcards[i].split(\" \")\n",
    "            \n",
    "            if f != sender:\n",
    "                del self._postcards[i]\n",
    "            else:\n",
    "                i += 1        \n",
    "                \n",
    "                \n",
    "                \n",
    "    \n",
    "    def getPostcardsByReceiver(self, receiver):\n",
    "        \n",
    "        i = 0\n",
    "        while i < len(self._postcards):\n",
    "            d,f,t = self._postcards[i].split(\" \")\n",
    "            \n",
    "            if t != receiver:\n",
    "                del self._postcards[i]\n",
    "            else:\n",
    "                i += 1 "
   ]
  },
  {
   "cell_type": "code",
   "execution_count": 2,
   "metadata": {},
   "outputs": [
    {
     "name": "stdout",
     "output_type": "stream",
     "text": [
      "['date:2013-09-16; from:Dewey; to:Happy;', 'date:2017-03-31; from:Mickey; to:Pluto;', 'date:2011-08-24; from:Dewey; to:Dopey;']\n",
      "{'date:2013-09-16': 0, 'date:2017-03-31': 1, 'date:2011-08-24': 2}\n",
      "{'from:Dewey': 2, 'from:Mickey': 1}\n",
      "{'to:Happy;': 0, 'to:Pluto;': 1, 'to:Dopey;': 2}\n"
     ]
    }
   ],
   "source": [
    "p = postcardclass(\"txt\", [], {}, {}, {})\n",
    "p._postcards = [\"date:2013-09-16; from:Dewey; to:Happy;\", \"date:2017-03-31; from:Mickey; to:Pluto;\", \"date:2011-08-24; from:Dewey; to:Dopey;\"]\n",
    "p.writeFile(\"txt\") #scrivo su file\n",
    "\n",
    "\n",
    "p2 = postcardclass(\"txt\", [], {}, {}, {})\n",
    "p2.readFile(\"txt\") #leggo su file\n",
    "\n",
    "#guardo se ha letto correttamente\n",
    "print(p2._postcards)\n",
    "print(p2._date) #in realtà non ha molto senso far leggere anche i singoli elementi perché con l'update nei dictionary\n",
    "#si sovrascrivono gli elementi uguali (vedi i \"from\")\n",
    "print(p2._from)\n",
    "print(p2._to)"
   ]
  },
  {
   "cell_type": "code",
   "execution_count": 3,
   "metadata": {},
   "outputs": [],
   "source": [
    "p3 = postcardclass(\"txt\", [], {}, {}, {})\n",
    "p3._postcards = [\"date:2010-06-23; from:Sneezy; to:Alice;\", \"date:2011-08-04; from:Louie; to:Grumpy;\"]\n",
    "p3.updateFile(\"txt\") #qui aggiorno il file\n"
   ]
  },
  {
   "cell_type": "code",
   "execution_count": 4,
   "metadata": {},
   "outputs": [
    {
     "data": {
      "text/plain": [
       "['date:2013-09-16; from:Dewey; to:Happy;',\n",
       " 'date:2017-03-31; from:Mickey; to:Pluto;',\n",
       " 'date:2011-08-24; from:Dewey; to:Dopey;']"
      ]
     },
     "execution_count": 4,
     "metadata": {},
     "output_type": "execute_result"
    }
   ],
   "source": [
    "p2._postcards #qui ho le postcard iniziali"
   ]
  },
  {
   "cell_type": "code",
   "execution_count": 5,
   "metadata": {},
   "outputs": [
    {
     "data": {
      "text/plain": [
       "True"
      ]
     },
     "execution_count": 5,
     "metadata": {},
     "output_type": "execute_result"
    }
   ],
   "source": [
    "p._postcards == p2._postcards #serve per capire il bug di dopo"
   ]
  },
  {
   "cell_type": "code",
   "execution_count": 6,
   "metadata": {},
   "outputs": [
    {
     "data": {
      "text/plain": [
       "['date:2013-09-16; from:Dewey; to:Happy;',\n",
       " 'date:2017-03-31; from:Mickey; to:Pluto;',\n",
       " 'date:2011-08-24; from:Dewey; to:Dopey;',\n",
       " 'date:2010-06-23; from:Sneezy; to:Alice;',\n",
       " 'date:2011-08-04; from:Louie; to:Grumpy;']"
      ]
     },
     "execution_count": 6,
     "metadata": {},
     "output_type": "execute_result"
    }
   ],
   "source": [
    "p2.updateLists(\"txt\")#qui le aggiorno\n",
    "p2._postcards"
   ]
  },
  {
   "cell_type": "code",
   "execution_count": 7,
   "metadata": {},
   "outputs": [
    {
     "data": {
      "text/plain": [
       "['date:2013-09-16; from:Dewey; to:Happy;',\n",
       " 'date:2017-03-31; from:Mickey; to:Pluto;',\n",
       " 'date:2011-08-24; from:Dewey; to:Dopey;']"
      ]
     },
     "execution_count": 7,
     "metadata": {},
     "output_type": "execute_result"
    }
   ],
   "source": [
    "###########ATTENZIONE###############\n",
    "p._postcards #qui ho le postcard iniziali uguali a quelle di p2!! Ma siccome nella classe le comparo con quelle\n",
    "#del self e p.self != p2.self, allora se aggiorno quelle di p, queste si duplicano\n"
   ]
  },
  {
   "cell_type": "code",
   "execution_count": 8,
   "metadata": {},
   "outputs": [
    {
     "data": {
      "text/plain": [
       "['date:2013-09-16; from:Dewey; to:Happy;',\n",
       " 'date:2017-03-31; from:Mickey; to:Pluto;',\n",
       " 'date:2011-08-24; from:Dewey; to:Dopey;',\n",
       " 'date:2013-09-16; from:Dewey; to:Happy;',\n",
       " 'date:2017-03-31; from:Mickey; to:Pluto;',\n",
       " 'date:2011-08-24; from:Dewey; to:Dopey;',\n",
       " 'date:2010-06-23; from:Sneezy; to:Alice;',\n",
       " 'date:2011-08-04; from:Louie; to:Grumpy;']"
      ]
     },
     "execution_count": 8,
     "metadata": {},
     "output_type": "execute_result"
    }
   ],
   "source": [
    "p.updateLists(\"txt\")#qui le aggiorno\n",
    "p._postcards"
   ]
  },
  {
   "cell_type": "code",
   "execution_count": 9,
   "metadata": {},
   "outputs": [],
   "source": [
    "#Inoltre se si continua a eseguire\n",
    "#p2.updateLists(\"txt\")#qui le aggiorno\n",
    "#p2._postcards\n",
    "#allora p2._postcards continua ad allungarsi"
   ]
  },
  {
   "cell_type": "code",
   "execution_count": 10,
   "metadata": {},
   "outputs": [
    {
     "data": {
      "text/plain": [
       "5"
      ]
     },
     "execution_count": 10,
     "metadata": {},
     "output_type": "execute_result"
    }
   ],
   "source": [
    "p2.getNumberOfPostcards()"
   ]
  },
  {
   "cell_type": "code",
   "execution_count": 11,
   "metadata": {},
   "outputs": [
    {
     "data": {
      "text/plain": [
       "['date:2013-09-16; from:Dewey; to:Happy;',\n",
       " 'date:2011-08-24; from:Dewey; to:Dopey;']"
      ]
     },
     "execution_count": 11,
     "metadata": {},
     "output_type": "execute_result"
    }
   ],
   "source": [
    "p2.getPostcardsBySender(\"from:Dewey;\")\n",
    "p2._postcards"
   ]
  },
  {
   "cell_type": "code",
   "execution_count": 12,
   "metadata": {},
   "outputs": [
    {
     "data": {
      "text/plain": [
       "['date:2013-09-16; from:Dewey; to:Happy;']"
      ]
     },
     "execution_count": 12,
     "metadata": {},
     "output_type": "execute_result"
    }
   ],
   "source": [
    "p2.getPostcardsByReceiver(\"to:Happy;\")\n",
    "p2._postcards"
   ]
  }
 ],
 "metadata": {
  "kernelspec": {
   "display_name": "Python 3",
   "language": "python",
   "name": "python3"
  },
  "language_info": {
   "codemirror_mode": {
    "name": "ipython",
    "version": 3
   },
   "file_extension": ".py",
   "mimetype": "text/x-python",
   "name": "python",
   "nbconvert_exporter": "python",
   "pygments_lexer": "ipython3",
   "version": "3.7.1"
  }
 },
 "nbformat": 4,
 "nbformat_minor": 2
}
